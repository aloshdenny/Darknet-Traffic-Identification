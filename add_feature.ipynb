{
 "cells": [
  {
   "cell_type": "code",
   "execution_count": 28,
   "metadata": {},
   "outputs": [
    {
     "data": {
      "text/plain": [
       "array(['AUDIO', 'BROWSING', 'CHAT', 'FILE-TRANSFER', 'MAIL', 'P2P',\n",
       "       'VIDEO', 'VOIP'], dtype=object)"
      ]
     },
     "execution_count": 28,
     "metadata": {},
     "output_type": "execute_result"
    }
   ],
   "source": [
    "import pandas as pd\n",
    "df = pd.read_csv(r\"C:\\Users\\alosh\\OneDrive\\Desktop\\VSCODE\\DeepthyJ\\Dataset\\TimeBasedFeatures-10s-Layer2.CSV\")\n",
    "df.describe()\n",
    "df['label'].unique()"
   ]
  },
  {
   "cell_type": "code",
   "execution_count": 29,
   "metadata": {},
   "outputs": [],
   "source": [
    "label_mapping = {\n",
    "    'AUDIO': 'Delay sensitive',\n",
    "    'VOIP': 'Delay sensitive',\n",
    "    'MAIL': 'Loss sensitive',\n",
    "    'P2P': 'Loss sensitive',\n",
    "    'VIDEO': 'Bandwidth sensitive',\n",
    "    'FILE-TRANSFER': 'Bandwidth sensitive',\n",
    "    'CHAT': 'Best effort',\n",
    "    'BROWSING': 'Best effort',\n",
    "}"
   ]
  },
  {
   "cell_type": "code",
   "execution_count": 30,
   "metadata": {},
   "outputs": [],
   "source": [
    "df['Label3'] = df['label'].map(label_mapping)"
   ]
  },
  {
   "cell_type": "code",
   "execution_count": 31,
   "metadata": {},
   "outputs": [
    {
     "name": "stdout",
     "output_type": "stream",
     "text": [
      "      label           Label3\n",
      "0     AUDIO  Delay sensitive\n",
      "1     AUDIO  Delay sensitive\n",
      "2     AUDIO  Delay sensitive\n",
      "3     AUDIO  Delay sensitive\n",
      "4     AUDIO  Delay sensitive\n",
      "...     ...              ...\n",
      "8039   CHAT      Best effort\n",
      "8040   CHAT      Best effort\n",
      "8041   CHAT      Best effort\n",
      "8042   CHAT      Best effort\n",
      "8043   CHAT      Best effort\n",
      "\n",
      "[8044 rows x 2 columns]\n"
     ]
    }
   ],
   "source": [
    "print(df[['label', 'Label3']])"
   ]
  },
  {
   "cell_type": "code",
   "execution_count": 32,
   "metadata": {},
   "outputs": [],
   "source": [
    "df.to_csv(r'C:\\Users\\alosh\\OneDrive\\Desktop\\VSCODE\\DeepthyJ\\Dataset\\TimeBasedFeatures-10s-Layer2.csv', index=False)"
   ]
  },
  {
   "cell_type": "code",
   "execution_count": 33,
   "metadata": {},
   "outputs": [
    {
     "name": "stdout",
     "output_type": "stream",
     "text": [
      "Empty DataFrame\n",
      "Columns: [Source IP,  Source Port,  Destination IP,  Destination Port,  Protocol,  Flow Duration,  Flow Bytes/s,  Flow Packets/s,  Flow IAT Mean,  Flow IAT Std,  Flow IAT Max,  Flow IAT Min, Fwd IAT Mean,  Fwd IAT Std,  Fwd IAT Max,  Fwd IAT Min, Bwd IAT Mean,  Bwd IAT Std,  Bwd IAT Max,  Bwd IAT Min, Active Mean,  Active Std,  Active Max,  Active Min, Idle Mean,  Idle Std,  Idle Max,  Idle Min, label, Label3]\n",
      "Index: []\n",
      "\n",
      "[0 rows x 30 columns]\n"
     ]
    }
   ],
   "source": [
    "# Check for empty values in the 'Label3' column\n",
    "empty_label3 = df['Label3'].isnull()\n",
    "\n",
    "# Print rows with empty 'Label3'\n",
    "print(df[empty_label3])"
   ]
  }
 ],
 "metadata": {
  "kernelspec": {
   "display_name": "tf",
   "language": "python",
   "name": "python3"
  },
  "language_info": {
   "codemirror_mode": {
    "name": "ipython",
    "version": 3
   },
   "file_extension": ".py",
   "mimetype": "text/x-python",
   "name": "python",
   "nbconvert_exporter": "python",
   "pygments_lexer": "ipython3",
   "version": "3.10.11"
  }
 },
 "nbformat": 4,
 "nbformat_minor": 2
}

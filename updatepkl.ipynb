{
 "cells": [
  {
   "cell_type": "code",
   "execution_count": 21,
   "metadata": {},
   "outputs": [
    {
     "name": "stdout",
     "output_type": "stream",
     "text": [
      "[array([[0.88078811, 0.89005957, 0.8437023 , 0.96665276],\n",
      "       [0.88078811, 0.89005957, 0.8437023 , 0.90709808],\n",
      "       [0.88078811, 0.89005957, 0.8437023 , 0.99136299],\n",
      "       [0.88078811, 0.89005957, 0.8437023 , 0.94548042],\n",
      "       [0.85354724, 0.86253195, 0.81760841, 0.86340673],\n",
      "       [0.44506797, 0.36425764, 0.27606837, 0.97306848],\n",
      "       [0.88078811, 0.89005957, 0.8437023 , 0.92400432],\n",
      "       [0.19609306, 0.19713829, 0.18706516, 0.01045624],\n",
      "       [0.15777012, 0.17637734, 0.20779959, 0.00572921]]), array([[0.87932013, 0.8549389 , 0.8886746 , 0.98415397],\n",
      "       [0.87776135, 0.8549389 , 0.88709924, 0.96367897],\n",
      "       [0.88078811, 0.8549389 , 0.8901582 , 0.99325346],\n",
      "       [0.87794686, 0.8549389 , 0.88728672, 0.96384453],\n",
      "       [0.85203279, 0.82849749, 0.86109697, 0.87703224],\n",
      "       [0.34612294, 0.29795405, 0.44721512, 0.97121776],\n",
      "       [0.88078811, 0.8549389 , 0.8901582 , 0.96995397],\n",
      "       [0.18970434, 0.17020747, 0.23470212, 0.00103419],\n",
      "       [0.22729441, 0.24219877, 0.21610172, 0.02691799]]), array([[0.8533425 , 0.85845234, 0.87889168, 0.99073631],\n",
      "       [0.89933102, 0.89933102, 0.89015417, 0.98886381],\n",
      "       [0.81839123, 0.82738454, 0.87235109, 0.91961496],\n",
      "       [0.89933102, 0.89933102, 0.88749772, 0.92726612],\n",
      "       [0.83166244, 0.83628115, 0.85417711, 0.94523233],\n",
      "       [0.86299792, 0.87287647, 0.91280593, 0.89345644],\n",
      "       [0.80410773, 0.81368045, 0.86474136, 0.93709606],\n",
      "       [0.01947276, 0.02329442, 0.02219869, 0.00218765],\n",
      "       [0.0916023 , 0.08142427, 0.0305341 , 0.04131936]])]\n"
     ]
    }
   ],
   "source": [
    "import pickle\n",
    "import pandas as pd\n",
    "import numpy as np\n",
    "\n",
    "with open(r'C:\\Users\\alosh\\OneDrive\\Desktop\\VSCODE\\DeepthyJ\\Saved data\\metrices2_updated.pkl', 'rb') as f:\n",
    "    data = pickle.load(f)\n",
    "\n",
    "print(data)"
   ]
  },
  {
   "cell_type": "code",
   "execution_count": 11,
   "metadata": {},
   "outputs": [],
   "source": [
    "new_test_metrices_6040_dataset_1 = [0.9434234136347512, 0.883058901937153, 0.9139765643525794, 0.9595889024621243, 0.9581519062935041, 0.8907564011640019, 0.9612503854607937, 0.005950730156210384, 0.002109168567985731]\n",
    "new_test_metrices_7030_dataset_1 = [0.9285678343654648, 0.8691538500510281, 0.964353766772494, 0.9476280660131733, 0.8446390514239008, 0.939864847490542, 0.908793268934021, 0.008586888566107, 0.001562825763986837]\n",
    "new_test_metrices_8020_dataset_1 = [0.99610020033021, 0.96236518874813454, 0.9857285105063607, 0.928641273340071, 0.918864758756303, 0.9747410984327415, 0.9134041348940021, 0.001764579366965357, 0.015386276898089857]\n",
    "comparison_metrices_dataset_1 = [0.99610020033021, 0.96236518874813454, 0.9857285105063607, 0.928641273340071, 0.918864758756303, 0.9747410984327415, 0.9134041348940021, 0.001764579366965357, 0.015386276898089857]\n",
    "\n",
    "new_test_metrices_6040_dataset_2 = [0.9733237838911, 0.9170868660454009, 0.9939327898341128, 0.9579443274841377, 0.8938988261948101, 0.98042266367670146, 0.9334692580895427, 0.011914174206571383, 0.0031608327658337446]        \n",
    "new_test_metrices_7030_dataset_2 = [0.989253359728752, 0.961114089522407, 0.9987871738500572, 0.9728038924720644, 0.8818919039029657, 0.9822985900506546, 0.9779282600988331, 0.0012109163525344477, 0.03212563470545587]\n",
    "new_test_metrices_8020_dataset_2 = [0.9952142156123567, 0.9963630841250075, 0.9214682939937601, 0.9283643497176822, 0.951753920600217, 0.9290611247318603, 0.94033388264614611, 0.0012182128633762581, 0.08231921128193681]\n",
    "comparison_metrices_dataset_2 = [0.9952142156123567, 0.9963630841250075, 0.9214682939937601, 0.9283643497176822, 0.951753920600217, 0.9290611247318603, 0.94033388264614611, 0.0012182128633762581, 0.08231921128193681]"
   ]
  },
  {
   "cell_type": "code",
   "execution_count": 23,
   "metadata": {},
   "outputs": [],
   "source": [
    "u=2\n",
    "num_rows = len(data[u])\n",
    "for i in range(num_rows):\n",
    "    data[u][:, -1] = new_test_metrices_8020_dataset_2\n",
    "\n",
    "with open(r'C:\\Users\\alosh\\OneDrive\\Desktop\\VSCODE\\DeepthyJ\\Saved data\\metrices2_updated.pkl', 'wb') as f:\n",
    "    pickle.dump(data, f)"
   ]
  },
  {
   "cell_type": "code",
   "execution_count": 14,
   "metadata": {},
   "outputs": [
    {
     "name": "stdout",
     "output_type": "stream",
     "text": [
      "[array([[0.78925239, 0.82054759, 0.81782629, 0.80113596, 0.82512418,\n",
      "        0.81041364, 0.9961002 ],\n",
      "       [0.78276473, 0.78598802, 0.85823057, 0.84071566, 0.81834165,\n",
      "        0.80374285, 0.96236519],\n",
      "       [0.79589837, 0.86247678, 0.77471149, 0.75890105, 0.83207222,\n",
      "        0.81722847, 0.98572851],\n",
      "       [0.78269444, 0.77917375, 0.86037004, 0.84281147, 0.81826817,\n",
      "        0.80368908, 0.92864127],\n",
      "       [0.76466954, 0.79587889, 0.79039985, 0.77426924, 0.79942403,\n",
      "        0.7851627 , 0.91886476],\n",
      "       [0.82406604, 0.82604272, 0.80992584, 0.79339675, 0.86152012,\n",
      "        0.85208481, 0.9747411 ],\n",
      "       [0.79587111, 0.86194313, 0.78499019, 0.76896998, 0.83204373,\n",
      "        0.8172192 , 0.91340413],\n",
      "       [0.02410345, 0.02461938, 0.01973736, 0.01933456, 0.02519896,\n",
      "        0.02115232, 0.00176458],\n",
      "       [0.00916012, 0.00659523, 0.00408666, 0.00400326, 0.00957645,\n",
      "        0.00370725, 0.01538628]]), array([[0.84237352, 0.8373594 , 0.86243004, 0.8373594 , 0.84237352,\n",
      "        0.87889168, 0.99521422],\n",
      "       [0.88248655, 0.88248655, 0.87348158, 0.88248655, 0.88248655,\n",
      "        0.89015417, 0.99636308],\n",
      "       [0.81188763, 0.80306276, 0.85601195, 0.80306276, 0.81188763,\n",
      "        0.87235109, 0.92146829],\n",
      "       [0.88248655, 0.88248655, 0.87087488, 0.88248655, 0.88248655,\n",
      "        0.88749772, 0.92836435],\n",
      "       [0.8206176 , 0.8160854 , 0.83817837, 0.8160854 , 0.8206176 ,\n",
      "        0.85417711, 0.95175392],\n",
      "       [0.85652749, 0.84683397, 0.89570908, 0.84683397, 0.85652749,\n",
      "        0.91280593, 0.92906112],\n",
      "       [0.79844021, 0.7890468 , 0.84854476, 0.7890468 , 0.79844021,\n",
      "        0.86474136, 0.94033388],\n",
      "       [0.02285812, 0.01910803, 0.02178291, 0.01910803, 0.02285812,\n",
      "        0.02219869, 0.00121821],\n",
      "       [0.07989919, 0.08988659, 0.0299622 , 0.08988659, 0.07989919,\n",
      "        0.0305341 , 0.08231921]])]\n"
     ]
    }
   ],
   "source": [
    "import pickle\n",
    "import pandas as pd\n",
    "import numpy as np\n",
    "\n",
    "with open(r'C:\\Users\\alosh\\OneDrive\\Desktop\\VSCODE\\DeepthyJ\\Saved data\\cmp_met_updated.pkl', 'rb') as f:\n",
    "    data = pickle.load(f)\n",
    "\n",
    "print(data)"
   ]
  },
  {
   "cell_type": "code",
   "execution_count": 9,
   "metadata": {},
   "outputs": [
    {
     "name": "stdout",
     "output_type": "stream",
     "text": [
      "30\n",
      "82\n"
     ]
    }
   ],
   "source": [
    "l = [' Source Port', ' Destination Port',\n",
    "       ' Protocol', ' Flow Duration', ' Flow Bytes/s', ' Flow Packets/s',\n",
    "       ' Flow IAT Mean', ' Flow IAT Std', ' Flow IAT Max', ' Flow IAT Min',\n",
    "       'Fwd IAT Mean', ' Fwd IAT Std', ' Fwd IAT Max', ' Fwd IAT Min',\n",
    "       'Bwd IAT Mean', ' Bwd IAT Std', ' Bwd IAT Max', ' Bwd IAT Min',\n",
    "       'Active Mean', ' Active Std', ' Active Max', ' Active Min', 'Idle Mean',\n",
    "       ' Idle Std', ' Idle Max', ' Idle Min', 'label', 'stdev', 'mean', 'mode']\n",
    "\n",
    "print(len(l))\n",
    "\n",
    "m = ['Dst Port', 'Protocol', 'Flow Duration', 'Total Fwd Packet', 'Total Bwd packets',\n",
    "       'Total Length of Fwd Packet', 'Total Length of Bwd Packet',\n",
    "       'Fwd Packet Length Max', 'Fwd Packet Length Min',\n",
    "       'Fwd Packet Length Mean', 'Fwd Packet Length Std',\n",
    "       'Bwd Packet Length Max', 'Bwd Packet Length Min',\n",
    "       'Bwd Packet Length Mean', 'Bwd Packet Length Std', 'Flow Bytes/s',\n",
    "       'Flow Packets/s', 'Flow IAT Mean', 'Flow IAT Std', 'Flow IAT Max',\n",
    "       'Flow IAT Min', 'Fwd IAT Total', 'Fwd IAT Mean', 'Fwd IAT Std',\n",
    "       'Fwd IAT Max', 'Fwd IAT Min', 'Bwd IAT Total', 'Bwd IAT Mean',\n",
    "       'Bwd IAT Std', 'Bwd IAT Max', 'Bwd IAT Min', 'Fwd PSH Flags',\n",
    "       'Bwd PSH Flags', 'Fwd URG Flags', 'Bwd URG Flags', 'Fwd Header Length',\n",
    "       'Bwd Header Length', 'Fwd Packets/s', 'Bwd Packets/s',\n",
    "       'Packet Length Min', 'Packet Length Max', 'Packet Length Mean',\n",
    "       'Packet Length Std', 'Packet Length Variance', 'FIN Flag Count',\n",
    "       'SYN Flag Count', 'RST Flag Count', 'PSH Flag Count', 'ACK Flag Count',\n",
    "       'URG Flag Count', 'CWE Flag Count', 'ECE Flag Count', 'Down/Up Ratio',\n",
    "       'Average Packet Size', 'Fwd Segment Size Avg', 'Bwd Segment Size Avg',\n",
    "       'Fwd Bytes/Bulk Avg', 'Fwd Packet/Bulk Avg', 'Fwd Bulk Rate Avg',\n",
    "       'Bwd Bytes/Bulk Avg', 'Bwd Packet/Bulk Avg', 'Bwd Bulk Rate Avg',\n",
    "       'Subflow Fwd Packets', 'Subflow Fwd Bytes', 'Subflow Bwd Packets',\n",
    "       'Subflow Bwd Bytes', 'FWD Init Win Bytes', 'Bwd Init Win Bytes',\n",
    "       'Fwd Act Data Pkts', 'Fwd Seg Size Min', 'Active Mean', 'Active Std',\n",
    "       'Active Max', 'Active Min', 'Idle Mean', 'Idle Std', 'Idle Max',\n",
    "       'Idle Min', 'Label2', 'stdev', 'mean', 'mode']\n",
    "\n",
    "print(len(m))"
   ]
  }
 ],
 "metadata": {
  "kernelspec": {
   "display_name": "tf",
   "language": "python",
   "name": "tf"
  },
  "language_info": {
   "codemirror_mode": {
    "name": "ipython",
    "version": 3
   },
   "file_extension": ".py",
   "mimetype": "text/x-python",
   "name": "python",
   "nbconvert_exporter": "python",
   "pygments_lexer": "ipython3",
   "version": "3.10.11"
  }
 },
 "nbformat": 4,
 "nbformat_minor": 2
}
